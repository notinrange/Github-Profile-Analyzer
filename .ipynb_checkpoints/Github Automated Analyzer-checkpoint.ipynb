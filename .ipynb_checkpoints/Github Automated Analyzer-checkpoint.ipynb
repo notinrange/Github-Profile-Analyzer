{
 "cells": [
  {
   "cell_type": "code",
   "execution_count": 13,
   "id": "2fd8e258",
   "metadata": {},
   "outputs": [],
   "source": [
    "import requests\n",
    "import json\n",
    "import gpt\n",
    "import langchain\n"
   ]
  },
  {
   "cell_type": "code",
   "execution_count": 14,
   "id": "4c82aae7",
   "metadata": {},
   "outputs": [],
   "source": [
    "def get_github_user_profile(username):\n",
    "    url = \"https://api.github.com/users/\" + username\n",
    "    response = requests.get(url)\n",
    "    data = json.loads(response.content)\n",
    "    return data\n"
   ]
  },
  {
   "cell_type": "code",
   "execution_count": 15,
   "id": "f1fe231e",
   "metadata": {},
   "outputs": [],
   "source": [
    "data = get_github_user_profile(\"notinrange\")"
   ]
  },
  {
   "cell_type": "code",
   "execution_count": 16,
   "id": "b5cf1886",
   "metadata": {},
   "outputs": [
    {
     "data": {
      "text/plain": [
       "{'message': \"API rate limit exceeded for 103.226.91.174. (But here's the good news: Authenticated requests get a higher rate limit. Check out the documentation for more details.)\",\n",
       " 'documentation_url': 'https://docs.github.com/rest/overview/resources-in-the-rest-api#rate-limiting'}"
      ]
     },
     "execution_count": 16,
     "metadata": {},
     "output_type": "execute_result"
    }
   ],
   "source": [
    "data"
   ]
  },
  {
   "cell_type": "code",
   "execution_count": 17,
   "id": "1c05e9a7",
   "metadata": {},
   "outputs": [],
   "source": [
    "def get_user_repositories(username):\n",
    "    url = \"https://api.github.com/users/\" + username + \"/repos\"\n",
    "    response = requests.get(url)\n",
    "    data = json.loads(response.content)\n",
    "    return data"
   ]
  },
  {
   "cell_type": "code",
   "execution_count": 18,
   "id": "cb850149",
   "metadata": {},
   "outputs": [
    {
     "name": "stdout",
     "output_type": "stream",
     "text": [
      "message\n",
      "documentation_url\n"
     ]
    }
   ],
   "source": [
    "repositories = get_user_repositories(\"notinrange\")\n",
    "for repository in repositories:\n",
    "    print(repository)"
   ]
  },
  {
   "cell_type": "code",
   "execution_count": 19,
   "id": "c7896379",
   "metadata": {},
   "outputs": [],
   "source": [
    "\n",
    "def get_repository_complexity(repo_url):\n",
    "    # Retrieve the repository information\n",
    "    response = requests.get(f\"https://api.github.com/repos/{repo_url}\")\n",
    "    if response.status_code != 200:\n",
    "        raise Exception(\"Failed to retrieve repository information.\")\n",
    "\n",
    "    repository_data = json.loads(response.text)\n",
    "    repository_full_name = repository_data[\"full_name\"]\n",
    "\n",
    "    # Retrieve the repository languages\n",
    "    response = requests.get(f\"https://api.github.com/repos/{repository_full_name}/languages\")\n",
    "    if response.status_code != 200:\n",
    "        raise Exception(\"Failed to retrieve repository languages.\")\n",
    "\n",
    "    languages_data = json.loads(response.text)\n",
    "\n",
    "    # Calculate the repository complexity\n",
    "    complexity = sum(languages_data.values())\n",
    "\n",
    "    return complexity\n"
   ]
  },
  {
   "cell_type": "code",
   "execution_count": 20,
   "id": "fbbf4497",
   "metadata": {},
   "outputs": [
    {
     "ename": "Exception",
     "evalue": "Failed to retrieve repository information.",
     "output_type": "error",
     "traceback": [
      "\u001b[1;31m---------------------------------------------------------------------------\u001b[0m",
      "\u001b[1;31mException\u001b[0m                                 Traceback (most recent call last)",
      "Cell \u001b[1;32mIn[20], line 2\u001b[0m\n\u001b[0;32m      1\u001b[0m repository_url \u001b[38;5;241m=\u001b[39m \u001b[38;5;124m\"\u001b[39m\u001b[38;5;124mstolarczyk/SAARpipeline\u001b[39m\u001b[38;5;124m\"\u001b[39m\n\u001b[1;32m----> 2\u001b[0m complexity \u001b[38;5;241m=\u001b[39m \u001b[43mget_repository_complexity\u001b[49m\u001b[43m(\u001b[49m\u001b[43mrepository_url\u001b[49m\u001b[43m)\u001b[49m\n\u001b[0;32m      3\u001b[0m \u001b[38;5;28mprint\u001b[39m(\u001b[38;5;124mf\u001b[39m\u001b[38;5;124m\"\u001b[39m\u001b[38;5;124mRepository Complexity: \u001b[39m\u001b[38;5;132;01m{\u001b[39;00mcomplexity\u001b[38;5;132;01m}\u001b[39;00m\u001b[38;5;124m\"\u001b[39m)\n",
      "Cell \u001b[1;32mIn[19], line 5\u001b[0m, in \u001b[0;36mget_repository_complexity\u001b[1;34m(repo_url)\u001b[0m\n\u001b[0;32m      3\u001b[0m response \u001b[38;5;241m=\u001b[39m requests\u001b[38;5;241m.\u001b[39mget(\u001b[38;5;124mf\u001b[39m\u001b[38;5;124m\"\u001b[39m\u001b[38;5;124mhttps://api.github.com/repos/\u001b[39m\u001b[38;5;132;01m{\u001b[39;00mrepo_url\u001b[38;5;132;01m}\u001b[39;00m\u001b[38;5;124m\"\u001b[39m)\n\u001b[0;32m      4\u001b[0m \u001b[38;5;28;01mif\u001b[39;00m response\u001b[38;5;241m.\u001b[39mstatus_code \u001b[38;5;241m!=\u001b[39m \u001b[38;5;241m200\u001b[39m:\n\u001b[1;32m----> 5\u001b[0m     \u001b[38;5;28;01mraise\u001b[39;00m \u001b[38;5;167;01mException\u001b[39;00m(\u001b[38;5;124m\"\u001b[39m\u001b[38;5;124mFailed to retrieve repository information.\u001b[39m\u001b[38;5;124m\"\u001b[39m)\n\u001b[0;32m      7\u001b[0m repository_data \u001b[38;5;241m=\u001b[39m json\u001b[38;5;241m.\u001b[39mloads(response\u001b[38;5;241m.\u001b[39mtext)\n\u001b[0;32m      8\u001b[0m repository_full_name \u001b[38;5;241m=\u001b[39m repository_data[\u001b[38;5;124m\"\u001b[39m\u001b[38;5;124mfull_name\u001b[39m\u001b[38;5;124m\"\u001b[39m]\n",
      "\u001b[1;31mException\u001b[0m: Failed to retrieve repository information."
     ]
    }
   ],
   "source": [
    "repository_url = \"stolarczyk/SAARpipeline\"\n",
    "complexity = get_repository_complexity(repository_url)\n",
    "print(f\"Repository Complexity: {complexity}\")\n"
   ]
  },
  {
   "cell_type": "code",
   "execution_count": 11,
   "id": "a52f06ef",
   "metadata": {},
   "outputs": [],
   "source": [
    "def get_most_complex_repository(username):\n",
    "    user_profile = get_github_user_profile(username)\n",
    "    user_repositories = get_user_repositories(username)\n",
    "    most_complex_repository = None\n",
    "    most_complex_complexity = 0\n",
    "    for repository in user_repositories:\n",
    "        complexity = get_repository_complexity(repository['full_name'])\n",
    "        if complexity > most_complex_complexity:\n",
    "            most_complex_repository = repository\n",
    "            most_complex_complexity = complexity\n",
    "    return most_complex_repository['full_name']"
   ]
  },
  {
   "cell_type": "code",
   "execution_count": 12,
   "id": "b9d91070",
   "metadata": {},
   "outputs": [
    {
     "name": "stdout",
     "output_type": "stream",
     "text": [
      "notinrange/Report-generation-for-chest-Xray\n"
     ]
    }
   ],
   "source": [
    "print(get_most_complex_repository(\"notinrange\"))"
   ]
  },
  {
   "cell_type": "code",
   "execution_count": null,
   "id": "7b5f9973",
   "metadata": {},
   "outputs": [],
   "source": []
  }
 ],
 "metadata": {
  "kernelspec": {
   "display_name": "Python 3 (ipykernel)",
   "language": "python",
   "name": "python3"
  },
  "language_info": {
   "codemirror_mode": {
    "name": "ipython",
    "version": 3
   },
   "file_extension": ".py",
   "mimetype": "text/x-python",
   "name": "python",
   "nbconvert_exporter": "python",
   "pygments_lexer": "ipython3",
   "version": "3.9.0"
  }
 },
 "nbformat": 4,
 "nbformat_minor": 5
}
